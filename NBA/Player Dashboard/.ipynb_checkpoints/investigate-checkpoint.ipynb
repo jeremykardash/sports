{
 "cells": [
  {
   "cell_type": "code",
   "execution_count": 1,
   "metadata": {},
   "outputs": [],
   "source": [
    "from nbapy import game, shot_chart, player\n",
    "import pandas as pd"
   ]
  },
  {
   "cell_type": "code",
   "execution_count": 2,
   "metadata": {},
   "outputs": [],
   "source": [
    "input_id = \"2544\""
   ]
  },
  {
   "cell_type": "code",
   "execution_count": 3,
   "metadata": {},
   "outputs": [],
   "source": [
    "game_log = player.GameLogs(player_id=input_id, season=\"2020-21\").logs()"
   ]
  },
  {
   "cell_type": "code",
   "execution_count": null,
   "metadata": {},
   "outputs": [],
   "source": []
  },
  {
   "cell_type": "code",
   "execution_count": 12,
   "metadata": {},
   "outputs": [],
   "source": [
    "def last_10(input_id):\n",
    "    df = player.LastNGamesSplits(player_id=input_id, season=\"2020-21\").last_10()\n",
    "    df[\"PRA\"] = df[\"PTS\"] + df[\"REB\"] + df[\"AST\"]\n",
    "    df[\"PA\"] = df[\"PTS\"]  + df[\"AST\"]\n",
    "    df[\"PR\"] = df[\"PTS\"] + df[\"REB\"]\n",
    "    df[\"STL/BLK\"] = df[\"STL\"] + df[\"BLK\"]\n",
    "    df = df[['MIN', 'FGM',\n",
    "           'FGA', 'FG3M', 'FG3A', 'FTM', 'FTA',\n",
    "           'PTS', 'REB', 'OREB', 'AST', \"PRA\", \"PA\", \"PR\", 'STL', 'BLK', 'STL/BLK']]\n",
    "    return df"
   ]
  },
  {
   "cell_type": "code",
   "execution_count": 13,
   "metadata": {},
   "outputs": [
    {
     "data": {
      "text/html": [
       "<div>\n",
       "<style scoped>\n",
       "    .dataframe tbody tr th:only-of-type {\n",
       "        vertical-align: middle;\n",
       "    }\n",
       "\n",
       "    .dataframe tbody tr th {\n",
       "        vertical-align: top;\n",
       "    }\n",
       "\n",
       "    .dataframe thead th {\n",
       "        text-align: right;\n",
       "    }\n",
       "</style>\n",
       "<table border=\"1\" class=\"dataframe\">\n",
       "  <thead>\n",
       "    <tr style=\"text-align: right;\">\n",
       "      <th></th>\n",
       "      <th>MIN</th>\n",
       "      <th>FGM</th>\n",
       "      <th>FGA</th>\n",
       "      <th>FG3M</th>\n",
       "      <th>FG3A</th>\n",
       "      <th>FTM</th>\n",
       "      <th>FTA</th>\n",
       "      <th>PTS</th>\n",
       "      <th>REB</th>\n",
       "      <th>OREB</th>\n",
       "      <th>AST</th>\n",
       "      <th>PRA</th>\n",
       "      <th>PA</th>\n",
       "      <th>PR</th>\n",
       "      <th>STL</th>\n",
       "      <th>BLK</th>\n",
       "      <th>STL/BLK</th>\n",
       "    </tr>\n",
       "  </thead>\n",
       "  <tbody>\n",
       "    <tr>\n",
       "      <th>0</th>\n",
       "      <td>37.7</td>\n",
       "      <td>10.2</td>\n",
       "      <td>19.6</td>\n",
       "      <td>1.6</td>\n",
       "      <td>6.4</td>\n",
       "      <td>4.5</td>\n",
       "      <td>6.3</td>\n",
       "      <td>26.5</td>\n",
       "      <td>9.1</td>\n",
       "      <td>0.3</td>\n",
       "      <td>8.9</td>\n",
       "      <td>44.5</td>\n",
       "      <td>35.4</td>\n",
       "      <td>35.6</td>\n",
       "      <td>1.3</td>\n",
       "      <td>0.7</td>\n",
       "      <td>2.0</td>\n",
       "    </tr>\n",
       "  </tbody>\n",
       "</table>\n",
       "</div>"
      ],
      "text/plain": [
       "    MIN   FGM   FGA  FG3M  FG3A  FTM  FTA   PTS  REB  OREB  AST   PRA    PA  \\\n",
       "0  37.7  10.2  19.6   1.6   6.4  4.5  6.3  26.5  9.1   0.3  8.9  44.5  35.4   \n",
       "\n",
       "     PR  STL  BLK  STL/BLK  \n",
       "0  35.6  1.3  0.7      2.0  "
      ]
     },
     "execution_count": 13,
     "metadata": {},
     "output_type": "execute_result"
    }
   ],
   "source": [
    "last_10(\"2544\")"
   ]
  },
  {
   "cell_type": "code",
   "execution_count": 44,
   "metadata": {},
   "outputs": [],
   "source": [
    "def next_game(input_id):\n",
    "    next_game_id = player.Career(player_id=input_id).next_game()\n",
    "    next_game_id[\"Team\"] = next_game_id[\"VS_TEAM_CITY\"] +\" \" + next_game_id[\"VS_TEAM_NICKNAME\"]\n",
    "    df = player.OpponentSplits(player_id=input_id).by_team()\n",
    "    df[\"PRA\"] = df[\"PTS\"] + df[\"REB\"] + df[\"AST\"]\n",
    "    df[\"PA\"] = df[\"PTS\"]  + df[\"AST\"]\n",
    "    df[\"PR\"] = df[\"PTS\"] + df[\"REB\"]\n",
    "    df[\"STL/BLK\"] = df[\"STL\"] + df[\"BLK\"]\n",
    "    df = df[[\"GROUP_VALUE\", \"GP\", 'MIN', 'FGM',\n",
    "           'FGA', 'FG3M', 'FG3A', 'FTM', 'FTA',\n",
    "           'PTS', 'REB', 'OREB', 'AST', \"PRA\", \"PA\", \"PR\", 'STL', 'BLK', 'STL/BLK']]\n",
    "    \n",
    "    table = []\n",
    "    for index, row in df.iterrows():\n",
    "        if (row[\"GROUP_VALUE\"] == next_game_id[\"Team\"][0]):\n",
    "            data = {}\n",
    "            data[\"Team\"] = row[\"GROUP_VALUE\"]\n",
    "            data['GP'] = row[\"GP\"]\n",
    "            data[\"MIN\"] = row[\"MIN\"]\n",
    "            data[\"FGM\"] = row[\"FGM\"]\n",
    "            data[\"FGA\"] = row[\"FGA\"]\n",
    "            data[\"FG3M\"] = row[\"FG3M\"]\n",
    "            data[\"FG3A\"] = row[\"FG3A\"]\n",
    "            data[\"FTM\"] = row[\"FTM\"]\n",
    "            data[\"FTA\"] = row[\"FTA\"]\n",
    "            data[\"PTS\"] = row[\"PTS\"]\n",
    "            data[\"REB\"] = row[\"REB\"]\n",
    "            data[\"OREB\"] = row[\"OREB\"]\n",
    "            data[\"AST\"] = row[\"AST\"]\n",
    "            data[\"PRA\"] = row[\"PRA\"]\n",
    "            data[\"PA\"] = row[\"PA\"]\n",
    "            data[\"PR\"] = row[\"PR\"]\n",
    "            data[\"STL\"] = row[\"STL\"]\n",
    "            data[\"BLK\"] = row[\"BLK\"]\n",
    "            data[\"STL/BLK\"] = row[\"STL/BLK\"]\n",
    "            table.append(data)\n",
    "        else:\n",
    "            pass\n",
    "    \n",
    "    return table"
   ]
  },
  {
   "cell_type": "code",
   "execution_count": 45,
   "metadata": {},
   "outputs": [
    {
     "data": {
      "text/plain": [
       "[{'Team': 'Charlotte Hornets',\n",
       "  'GP': 1,\n",
       "  'MIN': 28.0,\n",
       "  'FGM': 3.0,\n",
       "  'FGA': 5.0,\n",
       "  'FG3M': 2.0,\n",
       "  'FG3A': 4.0,\n",
       "  'FTM': 2.0,\n",
       "  'FTA': 2.0,\n",
       "  'PTS': 10.0,\n",
       "  'REB': 4.0,\n",
       "  'OREB': 1.0,\n",
       "  'AST': 11.0,\n",
       "  'PRA': 25.0,\n",
       "  'PA': 21.0,\n",
       "  'PR': 14.0,\n",
       "  'STL': 0.0,\n",
       "  'BLK': 1.0,\n",
       "  'STL/BLK': 1.0}]"
      ]
     },
     "execution_count": 45,
     "metadata": {},
     "output_type": "execute_result"
    }
   ],
   "source": [
    "next_game(\"204060\")"
   ]
  },
  {
   "cell_type": "code",
   "execution_count": 14,
   "metadata": {},
   "outputs": [],
   "source": []
  },
  {
   "cell_type": "code",
   "execution_count": 18,
   "metadata": {},
   "outputs": [],
   "source": []
  },
  {
   "cell_type": "code",
   "execution_count": null,
   "metadata": {},
   "outputs": [],
   "source": []
  },
  {
   "cell_type": "code",
   "execution_count": 20,
   "metadata": {},
   "outputs": [],
   "source": []
  },
  {
   "cell_type": "code",
   "execution_count": 24,
   "metadata": {},
   "outputs": [],
   "source": []
  },
  {
   "cell_type": "code",
   "execution_count": null,
   "metadata": {},
   "outputs": [],
   "source": []
  },
  {
   "cell_type": "code",
   "execution_count": null,
   "metadata": {},
   "outputs": [],
   "source": []
  },
  {
   "cell_type": "code",
   "execution_count": null,
   "metadata": {},
   "outputs": [],
   "source": []
  }
 ],
 "metadata": {
  "kernelspec": {
   "display_name": "Python 3",
   "language": "python",
   "name": "python3"
  },
  "language_info": {
   "codemirror_mode": {
    "name": "ipython",
    "version": 3
   },
   "file_extension": ".py",
   "mimetype": "text/x-python",
   "name": "python",
   "nbconvert_exporter": "python",
   "pygments_lexer": "ipython3",
   "version": "3.8.3"
  }
 },
 "nbformat": 4,
 "nbformat_minor": 4
}
