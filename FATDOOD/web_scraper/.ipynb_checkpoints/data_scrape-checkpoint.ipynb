{
 "cells": [
  {
   "cell_type": "code",
   "execution_count": 1,
   "metadata": {},
   "outputs": [],
   "source": [
    "#!pip install splinter"
   ]
  },
  {
   "cell_type": "code",
   "execution_count": 2,
   "metadata": {},
   "outputs": [],
   "source": [
    "# Dependencies\n",
    "from bs4 import BeautifulSoup\n",
    "import requests\n",
    "import pymongo\n",
    "import pandas as pd\n",
    "from splinter import Browser\n",
    "from webdriver_manager.chrome import ChromeDriverManager\n",
    "import numpy as np"
   ]
  },
  {
   "cell_type": "code",
   "execution_count": 3,
   "metadata": {},
   "outputs": [],
   "source": [
    "freeThrowPct = \"https://www.teamrankings.com/ncaa-basketball/stat/free-throw-pct\"\n",
    "astTo = \"https://www.teamrankings.com/ncaa-basketball/stat/assist--per--turnover-ratio\"\n",
    "eFG = \"https://www.teamrankings.com/ncaa-basketball/stat/effective-field-goal-pct\"\n",
    "defReb = \"https://www.teamrankings.com/ncaa-basketball/stat/defensive-rebounding-pct\"\n",
    "offReb = \"https://www.teamrankings.com/ncaa-basketball/stat/offensive-rebounding-pct\"\n",
    "oppEFG = \"https://www.teamrankings.com/ncaa-basketball/stat/opponent-effective-field-goal-pct\"\n",
    "defEff = \"https://www.teamrankings.com/ncaa-basketball/stat/defensive-efficiency\"\n"
   ]
  },
  {
   "cell_type": "code",
   "execution_count": 4,
   "metadata": {},
   "outputs": [
    {
     "name": "stderr",
     "output_type": "stream",
     "text": [
      "[WDM] - Current google-chrome version is 87.0.4280\n",
      "[WDM] - Get LATEST driver version for 87.0.4280\n"
     ]
    },
    {
     "name": "stdout",
     "output_type": "stream",
     "text": [
      " \n"
     ]
    },
    {
     "name": "stderr",
     "output_type": "stream",
     "text": [
      "[WDM] - Driver [/Users/jerkardash/.wdm/drivers/chromedriver/mac64/87.0.4280.88/chromedriver] found in cache\n"
     ]
    }
   ],
   "source": [
    "executable_path = {'executable_path': ChromeDriverManager().install()}\n",
    "browser = Browser('chrome', **executable_path, headless=False)"
   ]
  },
  {
   "cell_type": "code",
   "execution_count": 5,
   "metadata": {},
   "outputs": [],
   "source": [
    "browser.visit(freeThrowPct)"
   ]
  },
  {
   "cell_type": "code",
   "execution_count": 6,
   "metadata": {},
   "outputs": [],
   "source": [
    "html = browser.html\n",
    "soup = BeautifulSoup(html, 'html.parser')"
   ]
  },
  {
   "cell_type": "code",
   "execution_count": 7,
   "metadata": {},
   "outputs": [],
   "source": [
    "table = soup.find_all('table')\n",
    "df = pd.read_html(str(table))[0]\n",
    "df = df[[\"Team\", \"2020\"]]\n",
    "df_ft = df.rename(columns={\n",
    "    \"2020\": \"Free Throw %\"\n",
    "})\n",
    "#df_ft"
   ]
  },
  {
   "cell_type": "code",
   "execution_count": 8,
   "metadata": {},
   "outputs": [],
   "source": [
    "browser.visit(astTo)\n",
    "html = browser.html\n",
    "soup = BeautifulSoup(html, 'html.parser')"
   ]
  },
  {
   "cell_type": "code",
   "execution_count": 9,
   "metadata": {},
   "outputs": [],
   "source": [
    "table = soup.find_all('table')\n",
    "df = pd.read_html(str(table))[0]\n",
    "df = df[[\"Team\", \"2020\"]]\n",
    "df_ast = df.rename(columns={\n",
    "    \"2020\": \"AST/TO\"\n",
    "})\n",
    "#df_ast"
   ]
  },
  {
   "cell_type": "code",
   "execution_count": 10,
   "metadata": {},
   "outputs": [
    {
     "data": {
      "text/html": [
       "<div>\n",
       "<style scoped>\n",
       "    .dataframe tbody tr th:only-of-type {\n",
       "        vertical-align: middle;\n",
       "    }\n",
       "\n",
       "    .dataframe tbody tr th {\n",
       "        vertical-align: top;\n",
       "    }\n",
       "\n",
       "    .dataframe thead th {\n",
       "        text-align: right;\n",
       "    }\n",
       "</style>\n",
       "<table border=\"1\" class=\"dataframe\">\n",
       "  <thead>\n",
       "    <tr style=\"text-align: right;\">\n",
       "      <th></th>\n",
       "      <th>Team</th>\n",
       "      <th>Free Throw %</th>\n",
       "      <th>AST/TO</th>\n",
       "    </tr>\n",
       "  </thead>\n",
       "  <tbody>\n",
       "    <tr>\n",
       "      <th>0</th>\n",
       "      <td>Colorado</td>\n",
       "      <td>83.1%</td>\n",
       "      <td>1.225</td>\n",
       "    </tr>\n",
       "    <tr>\n",
       "      <th>1</th>\n",
       "      <td>Oral Roberts</td>\n",
       "      <td>81.0%</td>\n",
       "      <td>0.952</td>\n",
       "    </tr>\n",
       "    <tr>\n",
       "      <th>2</th>\n",
       "      <td>E Washingtn</td>\n",
       "      <td>81.0%</td>\n",
       "      <td>1.277</td>\n",
       "    </tr>\n",
       "    <tr>\n",
       "      <th>3</th>\n",
       "      <td>Detroit</td>\n",
       "      <td>80.3%</td>\n",
       "      <td>1.247</td>\n",
       "    </tr>\n",
       "    <tr>\n",
       "      <th>4</th>\n",
       "      <td>Montana</td>\n",
       "      <td>80.2%</td>\n",
       "      <td>0.928</td>\n",
       "    </tr>\n",
       "    <tr>\n",
       "      <th>...</th>\n",
       "      <td>...</td>\n",
       "      <td>...</td>\n",
       "      <td>...</td>\n",
       "    </tr>\n",
       "    <tr>\n",
       "      <th>352</th>\n",
       "      <td>Yale</td>\n",
       "      <td>--</td>\n",
       "      <td>--</td>\n",
       "    </tr>\n",
       "    <tr>\n",
       "      <th>353</th>\n",
       "      <td>Dartmouth</td>\n",
       "      <td>--</td>\n",
       "      <td>--</td>\n",
       "    </tr>\n",
       "    <tr>\n",
       "      <th>354</th>\n",
       "      <td>Harvard</td>\n",
       "      <td>--</td>\n",
       "      <td>--</td>\n",
       "    </tr>\n",
       "    <tr>\n",
       "      <th>355</th>\n",
       "      <td>U Penn</td>\n",
       "      <td>--</td>\n",
       "      <td>--</td>\n",
       "    </tr>\n",
       "    <tr>\n",
       "      <th>356</th>\n",
       "      <td>Beth-Cook</td>\n",
       "      <td>--</td>\n",
       "      <td>--</td>\n",
       "    </tr>\n",
       "  </tbody>\n",
       "</table>\n",
       "<p>357 rows × 3 columns</p>\n",
       "</div>"
      ],
      "text/plain": [
       "             Team Free Throw % AST/TO\n",
       "0        Colorado        83.1%  1.225\n",
       "1    Oral Roberts        81.0%  0.952\n",
       "2     E Washingtn        81.0%  1.277\n",
       "3         Detroit        80.3%  1.247\n",
       "4         Montana        80.2%  0.928\n",
       "..            ...          ...    ...\n",
       "352          Yale           --     --\n",
       "353     Dartmouth           --     --\n",
       "354       Harvard           --     --\n",
       "355        U Penn           --     --\n",
       "356     Beth-Cook           --     --\n",
       "\n",
       "[357 rows x 3 columns]"
      ]
     },
     "execution_count": 10,
     "metadata": {},
     "output_type": "execute_result"
    }
   ],
   "source": [
    "merged = df_ft.merge(df_ast, on=\"Team\")\n",
    "merged"
   ]
  },
  {
   "cell_type": "code",
   "execution_count": 11,
   "metadata": {},
   "outputs": [],
   "source": [
    "browser.visit(eFG)\n",
    "html = browser.html\n",
    "soup = BeautifulSoup(html, 'html.parser')"
   ]
  },
  {
   "cell_type": "code",
   "execution_count": 12,
   "metadata": {},
   "outputs": [],
   "source": [
    "table = soup.find_all('table')\n",
    "df = pd.read_html(str(table))[0]\n",
    "df = df[[\"Team\", \"2020\"]]\n",
    "df_eFG = df.rename(columns={\n",
    "    \"2020\": \"EFG %\"\n",
    "})\n",
    "#df_eFG"
   ]
  },
  {
   "cell_type": "code",
   "execution_count": 13,
   "metadata": {},
   "outputs": [],
   "source": [
    "merged = merged.merge(df_eFG, on=\"Team\")\n",
    "#merged"
   ]
  },
  {
   "cell_type": "code",
   "execution_count": 14,
   "metadata": {},
   "outputs": [],
   "source": [
    "browser.visit(defReb)\n",
    "html = browser.html\n",
    "soup = BeautifulSoup(html, 'html.parser')"
   ]
  },
  {
   "cell_type": "code",
   "execution_count": 15,
   "metadata": {},
   "outputs": [],
   "source": [
    "table = soup.find_all('table')\n",
    "df = pd.read_html(str(table))[0]\n",
    "df = df[[\"Team\", \"2020\"]]\n",
    "df_defReb = df.rename(columns={\n",
    "    \"2020\": \"Def Reb %\"\n",
    "})\n",
    "#df_defReb"
   ]
  },
  {
   "cell_type": "code",
   "execution_count": 16,
   "metadata": {},
   "outputs": [],
   "source": [
    "merged = merged.merge(df_defReb, on=\"Team\")\n",
    "#merged"
   ]
  },
  {
   "cell_type": "code",
   "execution_count": 17,
   "metadata": {},
   "outputs": [],
   "source": [
    "browser.visit(offReb)\n",
    "html = browser.html\n",
    "soup = BeautifulSoup(html, 'html.parser')"
   ]
  },
  {
   "cell_type": "code",
   "execution_count": 18,
   "metadata": {},
   "outputs": [],
   "source": [
    "table = soup.find_all('table')\n",
    "df = pd.read_html(str(table))[0]\n",
    "df = df[[\"Team\", \"2020\"]]\n",
    "df_offReb = df.rename(columns={\n",
    "    \"2020\": \"Off Reb %\"\n",
    "})\n",
    "#df_offReb"
   ]
  },
  {
   "cell_type": "code",
   "execution_count": 19,
   "metadata": {},
   "outputs": [],
   "source": [
    "merged = merged.merge(df_offReb, on=\"Team\")\n",
    "#merged"
   ]
  },
  {
   "cell_type": "code",
   "execution_count": 20,
   "metadata": {},
   "outputs": [],
   "source": [
    "browser.visit(oppEFG)\n",
    "html = browser.html\n",
    "soup = BeautifulSoup(html, 'html.parser')"
   ]
  },
  {
   "cell_type": "code",
   "execution_count": 21,
   "metadata": {},
   "outputs": [],
   "source": [
    "table = soup.find_all('table')\n",
    "df = pd.read_html(str(table))[0]\n",
    "df = df[[\"Team\", \"2020\"]]\n",
    "df_oppEFG = df.rename(columns={\n",
    "    \"2020\": \"Opp EFG %\"\n",
    "})\n",
    "#df_oppEFG"
   ]
  },
  {
   "cell_type": "code",
   "execution_count": 22,
   "metadata": {},
   "outputs": [],
   "source": [
    "merged = merged.merge(df_oppEFG, on=\"Team\")\n",
    "#merged"
   ]
  },
  {
   "cell_type": "code",
   "execution_count": 23,
   "metadata": {},
   "outputs": [],
   "source": [
    "browser.visit(defEff)\n",
    "html = browser.html\n",
    "soup = BeautifulSoup(html, 'html.parser')"
   ]
  },
  {
   "cell_type": "code",
   "execution_count": 24,
   "metadata": {},
   "outputs": [],
   "source": [
    "table = soup.find_all('table')\n",
    "df = pd.read_html(str(table))[0]\n",
    "df = df[[\"Team\", \"2020\"]]\n",
    "df_defEff = df.rename(columns={\n",
    "    \"2020\": \"Def Eff\"\n",
    "})\n",
    "#df_defEff"
   ]
  },
  {
   "cell_type": "code",
   "execution_count": 25,
   "metadata": {},
   "outputs": [],
   "source": [
    "fatdood_data = merged.merge(df_defEff, on=\"Team\")\n",
    "#fatdood_data"
   ]
  },
  {
   "cell_type": "code",
   "execution_count": 26,
   "metadata": {},
   "outputs": [],
   "source": [
    "browser.quit()"
   ]
  },
  {
   "cell_type": "code",
   "execution_count": 27,
   "metadata": {},
   "outputs": [],
   "source": [
    "df = fatdood_data"
   ]
  },
  {
   "cell_type": "code",
   "execution_count": 28,
   "metadata": {},
   "outputs": [
    {
     "data": {
      "text/plain": [
       "Team            object\n",
       "Free Throw %    object\n",
       "AST/TO          object\n",
       "EFG %           object\n",
       "Def Reb %       object\n",
       "Off Reb %       object\n",
       "Opp EFG %       object\n",
       "Def Eff         object\n",
       "dtype: object"
      ]
     },
     "execution_count": 28,
     "metadata": {},
     "output_type": "execute_result"
    }
   ],
   "source": [
    "df.dtypes"
   ]
  },
  {
   "cell_type": "code",
   "execution_count": 29,
   "metadata": {},
   "outputs": [],
   "source": [
    "df.loc[df[\"Free Throw %\"] == \"--\", 'Free Throw %'] = np.nan\n",
    "df = df.dropna()"
   ]
  },
  {
   "cell_type": "code",
   "execution_count": 31,
   "metadata": {},
   "outputs": [
    {
     "name": "stderr",
     "output_type": "stream",
     "text": [
      "<ipython-input-31-85033e6397f4>:1: SettingWithCopyWarning: \n",
      "A value is trying to be set on a copy of a slice from a DataFrame.\n",
      "Try using .loc[row_indexer,col_indexer] = value instead\n",
      "\n",
      "See the caveats in the documentation: https://pandas.pydata.org/pandas-docs/stable/user_guide/indexing.html#returning-a-view-versus-a-copy\n",
      "  df[\"Free Throw %\"] = df[\"Free Throw %\"].str[:-1]\n",
      "<ipython-input-31-85033e6397f4>:2: SettingWithCopyWarning: \n",
      "A value is trying to be set on a copy of a slice from a DataFrame.\n",
      "Try using .loc[row_indexer,col_indexer] = value instead\n",
      "\n",
      "See the caveats in the documentation: https://pandas.pydata.org/pandas-docs/stable/user_guide/indexing.html#returning-a-view-versus-a-copy\n",
      "  df[\"Free Throw %\"] = df[\"Free Throw %\"].astype(float)\n",
      "<ipython-input-31-85033e6397f4>:4: SettingWithCopyWarning: \n",
      "A value is trying to be set on a copy of a slice from a DataFrame.\n",
      "Try using .loc[row_indexer,col_indexer] = value instead\n",
      "\n",
      "See the caveats in the documentation: https://pandas.pydata.org/pandas-docs/stable/user_guide/indexing.html#returning-a-view-versus-a-copy\n",
      "  df[\"AST/TO\"] = df[\"AST/TO\"].astype(float)\n",
      "<ipython-input-31-85033e6397f4>:6: SettingWithCopyWarning: \n",
      "A value is trying to be set on a copy of a slice from a DataFrame.\n",
      "Try using .loc[row_indexer,col_indexer] = value instead\n",
      "\n",
      "See the caveats in the documentation: https://pandas.pydata.org/pandas-docs/stable/user_guide/indexing.html#returning-a-view-versus-a-copy\n",
      "  df[\"EFG %\"] = df[\"EFG %\"].str[:-1]\n",
      "<ipython-input-31-85033e6397f4>:7: SettingWithCopyWarning: \n",
      "A value is trying to be set on a copy of a slice from a DataFrame.\n",
      "Try using .loc[row_indexer,col_indexer] = value instead\n",
      "\n",
      "See the caveats in the documentation: https://pandas.pydata.org/pandas-docs/stable/user_guide/indexing.html#returning-a-view-versus-a-copy\n",
      "  df[\"EFG %\"] = df[\"EFG %\"].astype(float)\n",
      "<ipython-input-31-85033e6397f4>:9: SettingWithCopyWarning: \n",
      "A value is trying to be set on a copy of a slice from a DataFrame.\n",
      "Try using .loc[row_indexer,col_indexer] = value instead\n",
      "\n",
      "See the caveats in the documentation: https://pandas.pydata.org/pandas-docs/stable/user_guide/indexing.html#returning-a-view-versus-a-copy\n",
      "  df[\"Def Reb %\"] = df[\"Def Reb %\"].str[:-1]\n",
      "<ipython-input-31-85033e6397f4>:10: SettingWithCopyWarning: \n",
      "A value is trying to be set on a copy of a slice from a DataFrame.\n",
      "Try using .loc[row_indexer,col_indexer] = value instead\n",
      "\n",
      "See the caveats in the documentation: https://pandas.pydata.org/pandas-docs/stable/user_guide/indexing.html#returning-a-view-versus-a-copy\n",
      "  df[\"Def Reb %\"] = df[\"Def Reb %\"].astype(float)\n",
      "<ipython-input-31-85033e6397f4>:12: SettingWithCopyWarning: \n",
      "A value is trying to be set on a copy of a slice from a DataFrame.\n",
      "Try using .loc[row_indexer,col_indexer] = value instead\n",
      "\n",
      "See the caveats in the documentation: https://pandas.pydata.org/pandas-docs/stable/user_guide/indexing.html#returning-a-view-versus-a-copy\n",
      "  df[\"Off Reb %\"] = df[\"Off Reb %\"].str[:-1]\n",
      "<ipython-input-31-85033e6397f4>:13: SettingWithCopyWarning: \n",
      "A value is trying to be set on a copy of a slice from a DataFrame.\n",
      "Try using .loc[row_indexer,col_indexer] = value instead\n",
      "\n",
      "See the caveats in the documentation: https://pandas.pydata.org/pandas-docs/stable/user_guide/indexing.html#returning-a-view-versus-a-copy\n",
      "  df[\"Off Reb %\"] = df[\"Off Reb %\"].astype(float)\n",
      "<ipython-input-31-85033e6397f4>:15: SettingWithCopyWarning: \n",
      "A value is trying to be set on a copy of a slice from a DataFrame.\n",
      "Try using .loc[row_indexer,col_indexer] = value instead\n",
      "\n",
      "See the caveats in the documentation: https://pandas.pydata.org/pandas-docs/stable/user_guide/indexing.html#returning-a-view-versus-a-copy\n",
      "  df[\"Opp EFG %\"] = df[\"Opp EFG %\"].str[:-1]\n",
      "<ipython-input-31-85033e6397f4>:16: SettingWithCopyWarning: \n",
      "A value is trying to be set on a copy of a slice from a DataFrame.\n",
      "Try using .loc[row_indexer,col_indexer] = value instead\n",
      "\n",
      "See the caveats in the documentation: https://pandas.pydata.org/pandas-docs/stable/user_guide/indexing.html#returning-a-view-versus-a-copy\n",
      "  df[\"Opp EFG %\"] = df[\"Opp EFG %\"].astype(float)\n",
      "<ipython-input-31-85033e6397f4>:18: SettingWithCopyWarning: \n",
      "A value is trying to be set on a copy of a slice from a DataFrame.\n",
      "Try using .loc[row_indexer,col_indexer] = value instead\n",
      "\n",
      "See the caveats in the documentation: https://pandas.pydata.org/pandas-docs/stable/user_guide/indexing.html#returning-a-view-versus-a-copy\n",
      "  df[\"Def Eff\"] = df[\"Def Eff\"].astype(float)\n"
     ]
    }
   ],
   "source": [
    "df[\"Free Throw %\"] = df[\"Free Throw %\"].str[:-1]\n",
    "df[\"Free Throw %\"] = df[\"Free Throw %\"].astype(float)\n",
    "\n",
    "df[\"AST/TO\"] = df[\"AST/TO\"].astype(float)\n",
    "\n",
    "df[\"EFG %\"] = df[\"EFG %\"].str[:-1]\n",
    "df[\"EFG %\"] = df[\"EFG %\"].astype(float)\n",
    "\n",
    "df[\"Def Reb %\"] = df[\"Def Reb %\"].str[:-1]\n",
    "df[\"Def Reb %\"] = df[\"Def Reb %\"].astype(float)\n",
    "\n",
    "df[\"Off Reb %\"] = df[\"Off Reb %\"].str[:-1]\n",
    "df[\"Off Reb %\"] = df[\"Off Reb %\"].astype(float)\n",
    "\n",
    "df[\"Opp EFG %\"] = df[\"Opp EFG %\"].str[:-1]\n",
    "df[\"Opp EFG %\"] = df[\"Opp EFG %\"].astype(float)\n",
    "\n",
    "df[\"Def Eff\"] = df[\"Def Eff\"].astype(float)"
   ]
  },
  {
   "cell_type": "code",
   "execution_count": 34,
   "metadata": {},
   "outputs": [],
   "source": [
    "ft_mean = df[\"Free Throw %\"].mean()\n",
    "ast_mean = df[\"AST/TO\"].mean()\n",
    "efg_mean = df[\"EFG %\"].mean()\n",
    "defReb_mean = df[\"Def Reb %\"].mean()\n",
    "offReb_mean = df[\"Off Reb %\"].mean()\n",
    "oefg_mean = df[\"Opp EFG %\"].mean()\n",
    "defEff_mean = df[\"Def Eff\"].mean()"
   ]
  },
  {
   "cell_type": "code",
   "execution_count": 37,
   "metadata": {},
   "outputs": [
    {
     "name": "stderr",
     "output_type": "stream",
     "text": [
      "<ipython-input-37-6902b537685d>:1: SettingWithCopyWarning: \n",
      "A value is trying to be set on a copy of a slice from a DataFrame.\n",
      "Try using .loc[row_indexer,col_indexer] = value instead\n",
      "\n",
      "See the caveats in the documentation: https://pandas.pydata.org/pandas-docs/stable/user_guide/indexing.html#returning-a-view-versus-a-copy\n",
      "  df[\"FT Score\"] = (df[\"Free Throw %\"] + ft_mean)/ft_mean\n",
      "<ipython-input-37-6902b537685d>:2: SettingWithCopyWarning: \n",
      "A value is trying to be set on a copy of a slice from a DataFrame.\n",
      "Try using .loc[row_indexer,col_indexer] = value instead\n",
      "\n",
      "See the caveats in the documentation: https://pandas.pydata.org/pandas-docs/stable/user_guide/indexing.html#returning-a-view-versus-a-copy\n",
      "  df[\"AST Score\"] = (df[\"AST/TO\"] + ast_mean)/ast_mean\n",
      "<ipython-input-37-6902b537685d>:3: SettingWithCopyWarning: \n",
      "A value is trying to be set on a copy of a slice from a DataFrame.\n",
      "Try using .loc[row_indexer,col_indexer] = value instead\n",
      "\n",
      "See the caveats in the documentation: https://pandas.pydata.org/pandas-docs/stable/user_guide/indexing.html#returning-a-view-versus-a-copy\n",
      "  df[\"EFG Score\"] = (df[\"EFG %\"] + efg_mean)/efg_mean\n",
      "<ipython-input-37-6902b537685d>:4: SettingWithCopyWarning: \n",
      "A value is trying to be set on a copy of a slice from a DataFrame.\n",
      "Try using .loc[row_indexer,col_indexer] = value instead\n",
      "\n",
      "See the caveats in the documentation: https://pandas.pydata.org/pandas-docs/stable/user_guide/indexing.html#returning-a-view-versus-a-copy\n",
      "  df[\"Def Reb Score\"] = (df[\"Def Reb %\"] + defReb_mean)/defReb_mean\n",
      "<ipython-input-37-6902b537685d>:5: SettingWithCopyWarning: \n",
      "A value is trying to be set on a copy of a slice from a DataFrame.\n",
      "Try using .loc[row_indexer,col_indexer] = value instead\n",
      "\n",
      "See the caveats in the documentation: https://pandas.pydata.org/pandas-docs/stable/user_guide/indexing.html#returning-a-view-versus-a-copy\n",
      "  df[\"Off Reb Score\"] = (df[\"Off Reb %\"] + offReb_mean)/offReb_mean\n",
      "<ipython-input-37-6902b537685d>:6: SettingWithCopyWarning: \n",
      "A value is trying to be set on a copy of a slice from a DataFrame.\n",
      "Try using .loc[row_indexer,col_indexer] = value instead\n",
      "\n",
      "See the caveats in the documentation: https://pandas.pydata.org/pandas-docs/stable/user_guide/indexing.html#returning-a-view-versus-a-copy\n",
      "  df[\"Opp EFG Score\"] = (df[\"Opp EFG %\"] + oefg_mean)/oefg_mean\n",
      "<ipython-input-37-6902b537685d>:7: SettingWithCopyWarning: \n",
      "A value is trying to be set on a copy of a slice from a DataFrame.\n",
      "Try using .loc[row_indexer,col_indexer] = value instead\n",
      "\n",
      "See the caveats in the documentation: https://pandas.pydata.org/pandas-docs/stable/user_guide/indexing.html#returning-a-view-versus-a-copy\n",
      "  df[\"Def Eff Score\"] = (df[\"Def Eff\"] + defEff_mean)/defEff_mean\n"
     ]
    }
   ],
   "source": [
    "df[\"FT Score\"] = (df[\"Free Throw %\"] + ft_mean)/ft_mean\n",
    "df[\"AST Score\"] = (df[\"AST/TO\"] + ast_mean)/ast_mean\n",
    "df[\"EFG Score\"] = (df[\"EFG %\"] + efg_mean)/efg_mean \n",
    "df[\"Def Reb Score\"] = (df[\"Def Reb %\"] + defReb_mean)/defReb_mean\n",
    "df[\"Off Reb Score\"] = (df[\"Off Reb %\"] + offReb_mean)/offReb_mean\n",
    "df[\"Opp EFG Score\"] = (df[\"Opp EFG %\"] + oefg_mean)/oefg_mean\n",
    "df[\"Def Eff Score\"] = (df[\"Def Eff\"] + defEff_mean)/defEff_mean"
   ]
  },
  {
   "cell_type": "code",
   "execution_count": null,
   "metadata": {},
   "outputs": [],
   "source": [
    "#df.to_excel(\"fatdood.xlsx\", sheet_name='Sheet_name_1')"
   ]
  },
  {
   "cell_type": "code",
   "execution_count": 39,
   "metadata": {},
   "outputs": [
    {
     "name": "stderr",
     "output_type": "stream",
     "text": [
      "<ipython-input-39-dafafbdede9b>:1: SettingWithCopyWarning: \n",
      "A value is trying to be set on a copy of a slice from a DataFrame.\n",
      "Try using .loc[row_indexer,col_indexer] = value instead\n",
      "\n",
      "See the caveats in the documentation: https://pandas.pydata.org/pandas-docs/stable/user_guide/indexing.html#returning-a-view-versus-a-copy\n",
      "  df[\"Score\"] = (df[\"FT Score\"] + df[\"AST Score\"] + df[\"EFG Score\"] + df[\"Def Reb Score\"] + df[\"Off Reb Score\"] + df[\"Opp EFG Score\"] + df[\"Def Eff Score\"])/7\n"
     ]
    }
   ],
   "source": [
    "df[\"Score\"] = (df[\"FT Score\"] + df[\"AST Score\"] + df[\"EFG Score\"] + df[\"Def Reb Score\"] + df[\"Off Reb Score\"] + df[\"Opp EFG Score\"] + df[\"Def Eff Score\"])/7 "
   ]
  },
  {
   "cell_type": "code",
   "execution_count": 41,
   "metadata": {},
   "outputs": [
    {
     "data": {
      "text/html": [
       "<div>\n",
       "<style scoped>\n",
       "    .dataframe tbody tr th:only-of-type {\n",
       "        vertical-align: middle;\n",
       "    }\n",
       "\n",
       "    .dataframe tbody tr th {\n",
       "        vertical-align: top;\n",
       "    }\n",
       "\n",
       "    .dataframe thead th {\n",
       "        text-align: right;\n",
       "    }\n",
       "</style>\n",
       "<table border=\"1\" class=\"dataframe\">\n",
       "  <thead>\n",
       "    <tr style=\"text-align: right;\">\n",
       "      <th></th>\n",
       "      <th>Team</th>\n",
       "      <th>Free Throw %</th>\n",
       "      <th>AST/TO</th>\n",
       "      <th>EFG %</th>\n",
       "      <th>Def Reb %</th>\n",
       "      <th>Off Reb %</th>\n",
       "      <th>Opp EFG %</th>\n",
       "      <th>Def Eff</th>\n",
       "      <th>FT Score</th>\n",
       "      <th>AST Score</th>\n",
       "      <th>EFG Score</th>\n",
       "      <th>Def Reb Score</th>\n",
       "      <th>Off Reb Score</th>\n",
       "      <th>Opp EFG Score</th>\n",
       "      <th>Def Eff Score</th>\n",
       "      <th>Score</th>\n",
       "    </tr>\n",
       "  </thead>\n",
       "  <tbody>\n",
       "    <tr>\n",
       "      <th>150</th>\n",
       "      <td>Iowa</td>\n",
       "      <td>71.5</td>\n",
       "      <td>1.948</td>\n",
       "      <td>55.0</td>\n",
       "      <td>71.1</td>\n",
       "      <td>31.3</td>\n",
       "      <td>48.3</td>\n",
       "      <td>1.005</td>\n",
       "      <td>2.009883</td>\n",
       "      <td>2.947686</td>\n",
       "      <td>2.099499</td>\n",
       "      <td>1.962569</td>\n",
       "      <td>2.208400</td>\n",
       "      <td>1.962566</td>\n",
       "      <td>2.011160</td>\n",
       "      <td>2.171680</td>\n",
       "    </tr>\n",
       "    <tr>\n",
       "      <th>17</th>\n",
       "      <td>Villanova</td>\n",
       "      <td>77.7</td>\n",
       "      <td>1.714</td>\n",
       "      <td>54.4</td>\n",
       "      <td>77.3</td>\n",
       "      <td>25.4</td>\n",
       "      <td>52.3</td>\n",
       "      <td>0.984</td>\n",
       "      <td>2.097453</td>\n",
       "      <td>2.713723</td>\n",
       "      <td>2.087505</td>\n",
       "      <td>2.046506</td>\n",
       "      <td>1.980619</td>\n",
       "      <td>2.042281</td>\n",
       "      <td>1.990031</td>\n",
       "      <td>2.136874</td>\n",
       "    </tr>\n",
       "    <tr>\n",
       "      <th>85</th>\n",
       "      <td>Gonzaga</td>\n",
       "      <td>73.7</td>\n",
       "      <td>1.521</td>\n",
       "      <td>60.9</td>\n",
       "      <td>79.2</td>\n",
       "      <td>29.8</td>\n",
       "      <td>47.3</td>\n",
       "      <td>0.898</td>\n",
       "      <td>2.040956</td>\n",
       "      <td>2.520755</td>\n",
       "      <td>2.217446</td>\n",
       "      <td>2.072229</td>\n",
       "      <td>2.150490</td>\n",
       "      <td>1.942637</td>\n",
       "      <td>1.903504</td>\n",
       "      <td>2.121145</td>\n",
       "    </tr>\n",
       "    <tr>\n",
       "      <th>181</th>\n",
       "      <td>Baylor</td>\n",
       "      <td>70.5</td>\n",
       "      <td>1.437</td>\n",
       "      <td>58.6</td>\n",
       "      <td>71.9</td>\n",
       "      <td>35.9</td>\n",
       "      <td>47.5</td>\n",
       "      <td>0.873</td>\n",
       "      <td>1.995759</td>\n",
       "      <td>2.436768</td>\n",
       "      <td>2.171467</td>\n",
       "      <td>1.973400</td>\n",
       "      <td>2.385992</td>\n",
       "      <td>1.946623</td>\n",
       "      <td>1.878351</td>\n",
       "      <td>2.112623</td>\n",
       "    </tr>\n",
       "    <tr>\n",
       "      <th>207</th>\n",
       "      <td>Saint Louis</td>\n",
       "      <td>69.9</td>\n",
       "      <td>1.492</td>\n",
       "      <td>51.8</td>\n",
       "      <td>80.0</td>\n",
       "      <td>33.5</td>\n",
       "      <td>47.2</td>\n",
       "      <td>0.914</td>\n",
       "      <td>1.987284</td>\n",
       "      <td>2.491759</td>\n",
       "      <td>2.035528</td>\n",
       "      <td>2.083059</td>\n",
       "      <td>2.293336</td>\n",
       "      <td>1.940644</td>\n",
       "      <td>1.919602</td>\n",
       "      <td>2.107316</td>\n",
       "    </tr>\n",
       "    <tr>\n",
       "      <th>...</th>\n",
       "      <td>...</td>\n",
       "      <td>...</td>\n",
       "      <td>...</td>\n",
       "      <td>...</td>\n",
       "      <td>...</td>\n",
       "      <td>...</td>\n",
       "      <td>...</td>\n",
       "      <td>...</td>\n",
       "      <td>...</td>\n",
       "      <td>...</td>\n",
       "      <td>...</td>\n",
       "      <td>...</td>\n",
       "      <td>...</td>\n",
       "      <td>...</td>\n",
       "      <td>...</td>\n",
       "      <td>...</td>\n",
       "    </tr>\n",
       "    <tr>\n",
       "      <th>208</th>\n",
       "      <td>Chicago St</td>\n",
       "      <td>69.8</td>\n",
       "      <td>0.636</td>\n",
       "      <td>41.3</td>\n",
       "      <td>63.7</td>\n",
       "      <td>13.7</td>\n",
       "      <td>60.1</td>\n",
       "      <td>1.221</td>\n",
       "      <td>1.985872</td>\n",
       "      <td>1.635897</td>\n",
       "      <td>1.825624</td>\n",
       "      <td>1.862386</td>\n",
       "      <td>1.528916</td>\n",
       "      <td>2.197727</td>\n",
       "      <td>2.228484</td>\n",
       "      <td>1.894987</td>\n",
       "    </tr>\n",
       "    <tr>\n",
       "      <th>325</th>\n",
       "      <td>San Jose St</td>\n",
       "      <td>64.6</td>\n",
       "      <td>0.720</td>\n",
       "      <td>44.4</td>\n",
       "      <td>65.8</td>\n",
       "      <td>18.3</td>\n",
       "      <td>51.7</td>\n",
       "      <td>1.109</td>\n",
       "      <td>1.912426</td>\n",
       "      <td>1.719884</td>\n",
       "      <td>1.887596</td>\n",
       "      <td>1.890816</td>\n",
       "      <td>1.706509</td>\n",
       "      <td>2.030324</td>\n",
       "      <td>2.115798</td>\n",
       "      <td>1.894765</td>\n",
       "    </tr>\n",
       "    <tr>\n",
       "      <th>346</th>\n",
       "      <td>Maine</td>\n",
       "      <td>56.9</td>\n",
       "      <td>0.735</td>\n",
       "      <td>45.1</td>\n",
       "      <td>70.7</td>\n",
       "      <td>23.3</td>\n",
       "      <td>48.8</td>\n",
       "      <td>0.976</td>\n",
       "      <td>1.803669</td>\n",
       "      <td>1.734881</td>\n",
       "      <td>1.901589</td>\n",
       "      <td>1.957154</td>\n",
       "      <td>1.899544</td>\n",
       "      <td>1.972530</td>\n",
       "      <td>1.981982</td>\n",
       "      <td>1.893050</td>\n",
       "    </tr>\n",
       "    <tr>\n",
       "      <th>335</th>\n",
       "      <td>Coppin State</td>\n",
       "      <td>62.4</td>\n",
       "      <td>0.802</td>\n",
       "      <td>48.0</td>\n",
       "      <td>68.1</td>\n",
       "      <td>15.2</td>\n",
       "      <td>49.1</td>\n",
       "      <td>0.991</td>\n",
       "      <td>1.881352</td>\n",
       "      <td>1.801871</td>\n",
       "      <td>1.959563</td>\n",
       "      <td>1.921954</td>\n",
       "      <td>1.586827</td>\n",
       "      <td>1.978509</td>\n",
       "      <td>1.997074</td>\n",
       "      <td>1.875307</td>\n",
       "    </tr>\n",
       "    <tr>\n",
       "      <th>345</th>\n",
       "      <td>Miss Val St</td>\n",
       "      <td>58.2</td>\n",
       "      <td>0.575</td>\n",
       "      <td>43.1</td>\n",
       "      <td>63.0</td>\n",
       "      <td>15.9</td>\n",
       "      <td>55.8</td>\n",
       "      <td>1.192</td>\n",
       "      <td>1.822031</td>\n",
       "      <td>1.574907</td>\n",
       "      <td>1.861608</td>\n",
       "      <td>1.852909</td>\n",
       "      <td>1.613852</td>\n",
       "      <td>2.112033</td>\n",
       "      <td>2.199306</td>\n",
       "      <td>1.862378</td>\n",
       "    </tr>\n",
       "  </tbody>\n",
       "</table>\n",
       "<p>347 rows × 16 columns</p>\n",
       "</div>"
      ],
      "text/plain": [
       "             Team  Free Throw %  AST/TO  EFG %  Def Reb %  Off Reb %  \\\n",
       "150          Iowa          71.5   1.948   55.0       71.1       31.3   \n",
       "17      Villanova          77.7   1.714   54.4       77.3       25.4   \n",
       "85        Gonzaga          73.7   1.521   60.9       79.2       29.8   \n",
       "181        Baylor          70.5   1.437   58.6       71.9       35.9   \n",
       "207   Saint Louis          69.9   1.492   51.8       80.0       33.5   \n",
       "..            ...           ...     ...    ...        ...        ...   \n",
       "208    Chicago St          69.8   0.636   41.3       63.7       13.7   \n",
       "325   San Jose St          64.6   0.720   44.4       65.8       18.3   \n",
       "346         Maine          56.9   0.735   45.1       70.7       23.3   \n",
       "335  Coppin State          62.4   0.802   48.0       68.1       15.2   \n",
       "345   Miss Val St          58.2   0.575   43.1       63.0       15.9   \n",
       "\n",
       "     Opp EFG %  Def Eff  FT Score  AST Score  EFG Score  Def Reb Score  \\\n",
       "150       48.3    1.005  2.009883   2.947686   2.099499       1.962569   \n",
       "17        52.3    0.984  2.097453   2.713723   2.087505       2.046506   \n",
       "85        47.3    0.898  2.040956   2.520755   2.217446       2.072229   \n",
       "181       47.5    0.873  1.995759   2.436768   2.171467       1.973400   \n",
       "207       47.2    0.914  1.987284   2.491759   2.035528       2.083059   \n",
       "..         ...      ...       ...        ...        ...            ...   \n",
       "208       60.1    1.221  1.985872   1.635897   1.825624       1.862386   \n",
       "325       51.7    1.109  1.912426   1.719884   1.887596       1.890816   \n",
       "346       48.8    0.976  1.803669   1.734881   1.901589       1.957154   \n",
       "335       49.1    0.991  1.881352   1.801871   1.959563       1.921954   \n",
       "345       55.8    1.192  1.822031   1.574907   1.861608       1.852909   \n",
       "\n",
       "     Off Reb Score  Opp EFG Score  Def Eff Score     Score  \n",
       "150       2.208400       1.962566       2.011160  2.171680  \n",
       "17        1.980619       2.042281       1.990031  2.136874  \n",
       "85        2.150490       1.942637       1.903504  2.121145  \n",
       "181       2.385992       1.946623       1.878351  2.112623  \n",
       "207       2.293336       1.940644       1.919602  2.107316  \n",
       "..             ...            ...            ...       ...  \n",
       "208       1.528916       2.197727       2.228484  1.894987  \n",
       "325       1.706509       2.030324       2.115798  1.894765  \n",
       "346       1.899544       1.972530       1.981982  1.893050  \n",
       "335       1.586827       1.978509       1.997074  1.875307  \n",
       "345       1.613852       2.112033       2.199306  1.862378  \n",
       "\n",
       "[347 rows x 16 columns]"
      ]
     },
     "execution_count": 41,
     "metadata": {},
     "output_type": "execute_result"
    }
   ],
   "source": [
    "df = df.sort_values(by=\"Score\", ascending=False)\n",
    "df"
   ]
  },
  {
   "cell_type": "code",
   "execution_count": 42,
   "metadata": {},
   "outputs": [],
   "source": [
    "df.to_excel(\"fatdood.xlsx\", sheet_name='Sheet_name_1')"
   ]
  },
  {
   "cell_type": "code",
   "execution_count": null,
   "metadata": {},
   "outputs": [],
   "source": []
  },
  {
   "cell_type": "code",
   "execution_count": null,
   "metadata": {},
   "outputs": [],
   "source": []
  },
  {
   "cell_type": "code",
   "execution_count": null,
   "metadata": {},
   "outputs": [],
   "source": []
  },
  {
   "cell_type": "code",
   "execution_count": null,
   "metadata": {},
   "outputs": [],
   "source": []
  },
  {
   "cell_type": "code",
   "execution_count": null,
   "metadata": {},
   "outputs": [],
   "source": []
  },
  {
   "cell_type": "code",
   "execution_count": null,
   "metadata": {},
   "outputs": [],
   "source": []
  }
 ],
 "metadata": {
  "kernelspec": {
   "display_name": "Python 3",
   "language": "python",
   "name": "python3"
  },
  "language_info": {
   "codemirror_mode": {
    "name": "ipython",
    "version": 3
   },
   "file_extension": ".py",
   "mimetype": "text/x-python",
   "name": "python",
   "nbconvert_exporter": "python",
   "pygments_lexer": "ipython3",
   "version": "3.8.3"
  }
 },
 "nbformat": 4,
 "nbformat_minor": 4
}
