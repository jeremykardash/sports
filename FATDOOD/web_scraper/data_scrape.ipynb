{
 "cells": [
  {
   "cell_type": "code",
   "execution_count": 1,
   "metadata": {},
   "outputs": [],
   "source": [
    "#!pip install splinter"
   ]
  },
  {
   "cell_type": "code",
   "execution_count": 2,
   "metadata": {},
   "outputs": [],
   "source": [
    "# Dependencies\n",
    "from bs4 import BeautifulSoup\n",
    "import requests\n",
    "import pymongo\n",
    "import pandas as pd\n",
    "from splinter import Browser\n",
    "from webdriver_manager.chrome import ChromeDriverManager\n",
    "import numpy as np\n",
    "import matplotlib.pyplot as plt"
   ]
  },
  {
   "cell_type": "code",
   "execution_count": 3,
   "metadata": {},
   "outputs": [],
   "source": [
    "freeThrowPct = \"https://www.teamrankings.com/ncaa-basketball/stat/free-throw-pct\"\n",
    "astTo = \"https://www.teamrankings.com/ncaa-basketball/stat/assist--per--turnover-ratio\"\n",
    "eFG = \"https://www.teamrankings.com/ncaa-basketball/stat/effective-field-goal-pct\"\n",
    "defReb = \"https://www.teamrankings.com/ncaa-basketball/stat/defensive-rebounding-pct\"\n",
    "offReb = \"https://www.teamrankings.com/ncaa-basketball/stat/offensive-rebounding-pct\"\n",
    "oppEFG = \"https://www.teamrankings.com/ncaa-basketball/stat/opponent-effective-field-goal-pct\"\n",
    "defEff = \"https://www.teamrankings.com/ncaa-basketball/stat/defensive-efficiency\"\n",
    "teams = \"https://www.teamrankings.com/ncaa-basketball/ranking/predictive-by-other\""
   ]
  },
  {
   "cell_type": "code",
   "execution_count": 4,
   "metadata": {},
   "outputs": [
    {
     "name": "stderr",
     "output_type": "stream",
     "text": [
      "[WDM] - Current google-chrome version is 87.0.4280\n",
      "[WDM] - Get LATEST driver version for 87.0.4280\n"
     ]
    },
    {
     "name": "stdout",
     "output_type": "stream",
     "text": [
      " \n"
     ]
    },
    {
     "name": "stderr",
     "output_type": "stream",
     "text": [
      "[WDM] - Get LATEST driver version for 87.0.4280\n",
      "[WDM] - Trying to download new driver from http://chromedriver.storage.googleapis.com/87.0.4280.88/chromedriver_mac64.zip\n",
      "[WDM] - Driver has been saved in cache [/Users/jerkardash/.wdm/drivers/chromedriver/mac64/87.0.4280.88]\n"
     ]
    }
   ],
   "source": [
    "executable_path = {'executable_path': ChromeDriverManager().install()}\n",
    "browser = Browser('chrome', **executable_path, headless=False)"
   ]
  },
  {
   "cell_type": "code",
   "execution_count": 5,
   "metadata": {},
   "outputs": [],
   "source": [
    "# browser.visit(teams)\n",
    "# html = browser.html\n",
    "# soup = BeautifulSoup(html, 'html.parser')\n",
    "# table = soup.find_all('table')\n",
    "# df_teams = pd.read_html(str(table))[0]\n"
   ]
  },
  {
   "cell_type": "code",
   "execution_count": 6,
   "metadata": {},
   "outputs": [],
   "source": [
    "# df_teams[\"Team\"] = df_teams[\"Team\"].str.rsplit(\" \", n=1, expand=True)\n",
    "# df_teams = df_teams.head(100)"
   ]
  },
  {
   "cell_type": "code",
   "execution_count": null,
   "metadata": {},
   "outputs": [],
   "source": []
  },
  {
   "cell_type": "code",
   "execution_count": 7,
   "metadata": {},
   "outputs": [],
   "source": [
    "browser.visit(freeThrowPct)"
   ]
  },
  {
   "cell_type": "code",
   "execution_count": 8,
   "metadata": {},
   "outputs": [],
   "source": [
    "html = browser.html\n",
    "soup = BeautifulSoup(html, 'html.parser')"
   ]
  },
  {
   "cell_type": "code",
   "execution_count": 9,
   "metadata": {},
   "outputs": [],
   "source": [
    "table = soup.find_all('table')\n",
    "df = pd.read_html(str(table))[0]\n",
    "df = df[[\"Team\", \"2020\"]]\n",
    "df_ft = df.rename(columns={\n",
    "    \"2020\": \"Free Throw %\"\n",
    "})\n",
    "#df_ft"
   ]
  },
  {
   "cell_type": "code",
   "execution_count": null,
   "metadata": {},
   "outputs": [],
   "source": []
  },
  {
   "cell_type": "code",
   "execution_count": 10,
   "metadata": {},
   "outputs": [],
   "source": [
    "browser.visit(astTo)\n",
    "html = browser.html\n",
    "soup = BeautifulSoup(html, 'html.parser')"
   ]
  },
  {
   "cell_type": "code",
   "execution_count": 11,
   "metadata": {},
   "outputs": [],
   "source": [
    "table = soup.find_all('table')\n",
    "df = pd.read_html(str(table))[0]\n",
    "df = df[[\"Team\", \"2020\"]]\n",
    "df_ast = df.rename(columns={\n",
    "    \"2020\": \"AST/TO\"\n",
    "})\n",
    "#df_ast"
   ]
  },
  {
   "cell_type": "code",
   "execution_count": 12,
   "metadata": {},
   "outputs": [
    {
     "data": {
      "text/html": [
       "<div>\n",
       "<style scoped>\n",
       "    .dataframe tbody tr th:only-of-type {\n",
       "        vertical-align: middle;\n",
       "    }\n",
       "\n",
       "    .dataframe tbody tr th {\n",
       "        vertical-align: top;\n",
       "    }\n",
       "\n",
       "    .dataframe thead th {\n",
       "        text-align: right;\n",
       "    }\n",
       "</style>\n",
       "<table border=\"1\" class=\"dataframe\">\n",
       "  <thead>\n",
       "    <tr style=\"text-align: right;\">\n",
       "      <th></th>\n",
       "      <th>Team</th>\n",
       "      <th>Free Throw %</th>\n",
       "      <th>AST/TO</th>\n",
       "    </tr>\n",
       "  </thead>\n",
       "  <tbody>\n",
       "    <tr>\n",
       "      <th>0</th>\n",
       "      <td>Colorado</td>\n",
       "      <td>83.1%</td>\n",
       "      <td>1.231</td>\n",
       "    </tr>\n",
       "    <tr>\n",
       "      <th>1</th>\n",
       "      <td>Oral Roberts</td>\n",
       "      <td>81.4%</td>\n",
       "      <td>0.970</td>\n",
       "    </tr>\n",
       "    <tr>\n",
       "      <th>2</th>\n",
       "      <td>E Washingtn</td>\n",
       "      <td>81.0%</td>\n",
       "      <td>1.277</td>\n",
       "    </tr>\n",
       "    <tr>\n",
       "      <th>3</th>\n",
       "      <td>Lafayette</td>\n",
       "      <td>80.4%</td>\n",
       "      <td>1.468</td>\n",
       "    </tr>\n",
       "    <tr>\n",
       "      <th>4</th>\n",
       "      <td>Detroit</td>\n",
       "      <td>80.3%</td>\n",
       "      <td>1.247</td>\n",
       "    </tr>\n",
       "    <tr>\n",
       "      <th>...</th>\n",
       "      <td>...</td>\n",
       "      <td>...</td>\n",
       "      <td>...</td>\n",
       "    </tr>\n",
       "    <tr>\n",
       "      <th>352</th>\n",
       "      <td>Princeton</td>\n",
       "      <td>--</td>\n",
       "      <td>--</td>\n",
       "    </tr>\n",
       "    <tr>\n",
       "      <th>353</th>\n",
       "      <td>Beth-Cook</td>\n",
       "      <td>--</td>\n",
       "      <td>--</td>\n",
       "    </tr>\n",
       "    <tr>\n",
       "      <th>354</th>\n",
       "      <td>Brown</td>\n",
       "      <td>--</td>\n",
       "      <td>--</td>\n",
       "    </tr>\n",
       "    <tr>\n",
       "      <th>355</th>\n",
       "      <td>Harvard</td>\n",
       "      <td>--</td>\n",
       "      <td>--</td>\n",
       "    </tr>\n",
       "    <tr>\n",
       "      <th>356</th>\n",
       "      <td>U Penn</td>\n",
       "      <td>--</td>\n",
       "      <td>--</td>\n",
       "    </tr>\n",
       "  </tbody>\n",
       "</table>\n",
       "<p>357 rows × 3 columns</p>\n",
       "</div>"
      ],
      "text/plain": [
       "             Team Free Throw % AST/TO\n",
       "0        Colorado        83.1%  1.231\n",
       "1    Oral Roberts        81.4%  0.970\n",
       "2     E Washingtn        81.0%  1.277\n",
       "3       Lafayette        80.4%  1.468\n",
       "4         Detroit        80.3%  1.247\n",
       "..            ...          ...    ...\n",
       "352     Princeton           --     --\n",
       "353     Beth-Cook           --     --\n",
       "354         Brown           --     --\n",
       "355       Harvard           --     --\n",
       "356        U Penn           --     --\n",
       "\n",
       "[357 rows x 3 columns]"
      ]
     },
     "execution_count": 12,
     "metadata": {},
     "output_type": "execute_result"
    }
   ],
   "source": [
    "merged = df_ft.merge(df_ast, on=\"Team\")\n",
    "merged"
   ]
  },
  {
   "cell_type": "code",
   "execution_count": 13,
   "metadata": {},
   "outputs": [],
   "source": [
    "browser.visit(eFG)\n",
    "html = browser.html\n",
    "soup = BeautifulSoup(html, 'html.parser')"
   ]
  },
  {
   "cell_type": "code",
   "execution_count": 14,
   "metadata": {},
   "outputs": [],
   "source": [
    "table = soup.find_all('table')\n",
    "df = pd.read_html(str(table))[0]\n",
    "df = df[[\"Team\", \"2020\"]]\n",
    "df_eFG = df.rename(columns={\n",
    "    \"2020\": \"EFG %\"\n",
    "})\n",
    "#df_eFG"
   ]
  },
  {
   "cell_type": "code",
   "execution_count": 15,
   "metadata": {},
   "outputs": [],
   "source": [
    "merged = merged.merge(df_eFG, on=\"Team\")\n",
    "#merged"
   ]
  },
  {
   "cell_type": "code",
   "execution_count": 16,
   "metadata": {},
   "outputs": [],
   "source": [
    "browser.visit(defReb)\n",
    "html = browser.html\n",
    "soup = BeautifulSoup(html, 'html.parser')"
   ]
  },
  {
   "cell_type": "code",
   "execution_count": 17,
   "metadata": {},
   "outputs": [],
   "source": [
    "table = soup.find_all('table')\n",
    "df = pd.read_html(str(table))[0]\n",
    "df = df[[\"Team\", \"2020\"]]\n",
    "df_defReb = df.rename(columns={\n",
    "    \"2020\": \"Def Reb %\"\n",
    "})\n",
    "#df_defReb"
   ]
  },
  {
   "cell_type": "code",
   "execution_count": 18,
   "metadata": {},
   "outputs": [],
   "source": [
    "merged = merged.merge(df_defReb, on=\"Team\")\n",
    "#merged"
   ]
  },
  {
   "cell_type": "code",
   "execution_count": 19,
   "metadata": {},
   "outputs": [],
   "source": [
    "browser.visit(offReb)\n",
    "html = browser.html\n",
    "soup = BeautifulSoup(html, 'html.parser')"
   ]
  },
  {
   "cell_type": "code",
   "execution_count": 20,
   "metadata": {},
   "outputs": [],
   "source": [
    "table = soup.find_all('table')\n",
    "df = pd.read_html(str(table))[0]\n",
    "df = df[[\"Team\", \"2020\"]]\n",
    "df_offReb = df.rename(columns={\n",
    "    \"2020\": \"Off Reb %\"\n",
    "})\n",
    "#df_offReb"
   ]
  },
  {
   "cell_type": "code",
   "execution_count": 21,
   "metadata": {},
   "outputs": [],
   "source": [
    "merged = merged.merge(df_offReb, on=\"Team\")\n",
    "#merged"
   ]
  },
  {
   "cell_type": "code",
   "execution_count": 22,
   "metadata": {},
   "outputs": [],
   "source": [
    "browser.visit(oppEFG)\n",
    "html = browser.html\n",
    "soup = BeautifulSoup(html, 'html.parser')"
   ]
  },
  {
   "cell_type": "code",
   "execution_count": 23,
   "metadata": {},
   "outputs": [],
   "source": [
    "table = soup.find_all('table')\n",
    "df = pd.read_html(str(table))[0]\n",
    "df = df[[\"Team\", \"2020\"]]\n",
    "df_oppEFG = df.rename(columns={\n",
    "    \"2020\": \"Opp EFG %\"\n",
    "})\n",
    "#df_oppEFG"
   ]
  },
  {
   "cell_type": "code",
   "execution_count": 24,
   "metadata": {},
   "outputs": [],
   "source": [
    "merged = merged.merge(df_oppEFG, on=\"Team\")\n",
    "#merged"
   ]
  },
  {
   "cell_type": "code",
   "execution_count": 25,
   "metadata": {},
   "outputs": [],
   "source": [
    "browser.visit(defEff)\n",
    "html = browser.html\n",
    "soup = BeautifulSoup(html, 'html.parser')"
   ]
  },
  {
   "cell_type": "code",
   "execution_count": 26,
   "metadata": {},
   "outputs": [],
   "source": [
    "table = soup.find_all('table')\n",
    "df = pd.read_html(str(table))[0]\n",
    "df = df[[\"Team\", \"2020\"]]\n",
    "df_defEff = df.rename(columns={\n",
    "    \"2020\": \"Def Eff\"\n",
    "})\n",
    "#df_defEff"
   ]
  },
  {
   "cell_type": "code",
   "execution_count": 27,
   "metadata": {},
   "outputs": [],
   "source": [
    "fatdood_data = merged.merge(df_defEff, on=\"Team\")\n",
    "#fatdood_data"
   ]
  },
  {
   "cell_type": "code",
   "execution_count": 28,
   "metadata": {},
   "outputs": [],
   "source": [
    "browser.quit()"
   ]
  },
  {
   "cell_type": "code",
   "execution_count": 29,
   "metadata": {},
   "outputs": [],
   "source": [
    "df = fatdood_data"
   ]
  },
  {
   "cell_type": "code",
   "execution_count": 30,
   "metadata": {},
   "outputs": [
    {
     "data": {
      "text/plain": [
       "Team            object\n",
       "Free Throw %    object\n",
       "AST/TO          object\n",
       "EFG %           object\n",
       "Def Reb %       object\n",
       "Off Reb %       object\n",
       "Opp EFG %       object\n",
       "Def Eff         object\n",
       "dtype: object"
      ]
     },
     "execution_count": 30,
     "metadata": {},
     "output_type": "execute_result"
    }
   ],
   "source": [
    "df.dtypes"
   ]
  },
  {
   "cell_type": "code",
   "execution_count": 31,
   "metadata": {},
   "outputs": [],
   "source": [
    "df.loc[df[\"Free Throw %\"] == \"--\", 'Free Throw %'] = np.nan\n",
    "df = df.dropna()"
   ]
  },
  {
   "cell_type": "code",
   "execution_count": 32,
   "metadata": {},
   "outputs": [
    {
     "name": "stderr",
     "output_type": "stream",
     "text": [
      "<ipython-input-32-85033e6397f4>:1: SettingWithCopyWarning: \n",
      "A value is trying to be set on a copy of a slice from a DataFrame.\n",
      "Try using .loc[row_indexer,col_indexer] = value instead\n",
      "\n",
      "See the caveats in the documentation: https://pandas.pydata.org/pandas-docs/stable/user_guide/indexing.html#returning-a-view-versus-a-copy\n",
      "  df[\"Free Throw %\"] = df[\"Free Throw %\"].str[:-1]\n",
      "<ipython-input-32-85033e6397f4>:2: SettingWithCopyWarning: \n",
      "A value is trying to be set on a copy of a slice from a DataFrame.\n",
      "Try using .loc[row_indexer,col_indexer] = value instead\n",
      "\n",
      "See the caveats in the documentation: https://pandas.pydata.org/pandas-docs/stable/user_guide/indexing.html#returning-a-view-versus-a-copy\n",
      "  df[\"Free Throw %\"] = df[\"Free Throw %\"].astype(float)\n",
      "<ipython-input-32-85033e6397f4>:4: SettingWithCopyWarning: \n",
      "A value is trying to be set on a copy of a slice from a DataFrame.\n",
      "Try using .loc[row_indexer,col_indexer] = value instead\n",
      "\n",
      "See the caveats in the documentation: https://pandas.pydata.org/pandas-docs/stable/user_guide/indexing.html#returning-a-view-versus-a-copy\n",
      "  df[\"AST/TO\"] = df[\"AST/TO\"].astype(float)\n",
      "<ipython-input-32-85033e6397f4>:6: SettingWithCopyWarning: \n",
      "A value is trying to be set on a copy of a slice from a DataFrame.\n",
      "Try using .loc[row_indexer,col_indexer] = value instead\n",
      "\n",
      "See the caveats in the documentation: https://pandas.pydata.org/pandas-docs/stable/user_guide/indexing.html#returning-a-view-versus-a-copy\n",
      "  df[\"EFG %\"] = df[\"EFG %\"].str[:-1]\n",
      "<ipython-input-32-85033e6397f4>:7: SettingWithCopyWarning: \n",
      "A value is trying to be set on a copy of a slice from a DataFrame.\n",
      "Try using .loc[row_indexer,col_indexer] = value instead\n",
      "\n",
      "See the caveats in the documentation: https://pandas.pydata.org/pandas-docs/stable/user_guide/indexing.html#returning-a-view-versus-a-copy\n",
      "  df[\"EFG %\"] = df[\"EFG %\"].astype(float)\n",
      "<ipython-input-32-85033e6397f4>:9: SettingWithCopyWarning: \n",
      "A value is trying to be set on a copy of a slice from a DataFrame.\n",
      "Try using .loc[row_indexer,col_indexer] = value instead\n",
      "\n",
      "See the caveats in the documentation: https://pandas.pydata.org/pandas-docs/stable/user_guide/indexing.html#returning-a-view-versus-a-copy\n",
      "  df[\"Def Reb %\"] = df[\"Def Reb %\"].str[:-1]\n",
      "<ipython-input-32-85033e6397f4>:10: SettingWithCopyWarning: \n",
      "A value is trying to be set on a copy of a slice from a DataFrame.\n",
      "Try using .loc[row_indexer,col_indexer] = value instead\n",
      "\n",
      "See the caveats in the documentation: https://pandas.pydata.org/pandas-docs/stable/user_guide/indexing.html#returning-a-view-versus-a-copy\n",
      "  df[\"Def Reb %\"] = df[\"Def Reb %\"].astype(float)\n",
      "<ipython-input-32-85033e6397f4>:12: SettingWithCopyWarning: \n",
      "A value is trying to be set on a copy of a slice from a DataFrame.\n",
      "Try using .loc[row_indexer,col_indexer] = value instead\n",
      "\n",
      "See the caveats in the documentation: https://pandas.pydata.org/pandas-docs/stable/user_guide/indexing.html#returning-a-view-versus-a-copy\n",
      "  df[\"Off Reb %\"] = df[\"Off Reb %\"].str[:-1]\n",
      "<ipython-input-32-85033e6397f4>:13: SettingWithCopyWarning: \n",
      "A value is trying to be set on a copy of a slice from a DataFrame.\n",
      "Try using .loc[row_indexer,col_indexer] = value instead\n",
      "\n",
      "See the caveats in the documentation: https://pandas.pydata.org/pandas-docs/stable/user_guide/indexing.html#returning-a-view-versus-a-copy\n",
      "  df[\"Off Reb %\"] = df[\"Off Reb %\"].astype(float)\n",
      "<ipython-input-32-85033e6397f4>:15: SettingWithCopyWarning: \n",
      "A value is trying to be set on a copy of a slice from a DataFrame.\n",
      "Try using .loc[row_indexer,col_indexer] = value instead\n",
      "\n",
      "See the caveats in the documentation: https://pandas.pydata.org/pandas-docs/stable/user_guide/indexing.html#returning-a-view-versus-a-copy\n",
      "  df[\"Opp EFG %\"] = df[\"Opp EFG %\"].str[:-1]\n",
      "<ipython-input-32-85033e6397f4>:16: SettingWithCopyWarning: \n",
      "A value is trying to be set on a copy of a slice from a DataFrame.\n",
      "Try using .loc[row_indexer,col_indexer] = value instead\n",
      "\n",
      "See the caveats in the documentation: https://pandas.pydata.org/pandas-docs/stable/user_guide/indexing.html#returning-a-view-versus-a-copy\n",
      "  df[\"Opp EFG %\"] = df[\"Opp EFG %\"].astype(float)\n",
      "<ipython-input-32-85033e6397f4>:18: SettingWithCopyWarning: \n",
      "A value is trying to be set on a copy of a slice from a DataFrame.\n",
      "Try using .loc[row_indexer,col_indexer] = value instead\n",
      "\n",
      "See the caveats in the documentation: https://pandas.pydata.org/pandas-docs/stable/user_guide/indexing.html#returning-a-view-versus-a-copy\n",
      "  df[\"Def Eff\"] = df[\"Def Eff\"].astype(float)\n"
     ]
    }
   ],
   "source": [
    "df[\"Free Throw %\"] = df[\"Free Throw %\"].str[:-1]\n",
    "df[\"Free Throw %\"] = df[\"Free Throw %\"].astype(float)\n",
    "\n",
    "df[\"AST/TO\"] = df[\"AST/TO\"].astype(float)\n",
    "\n",
    "df[\"EFG %\"] = df[\"EFG %\"].str[:-1]\n",
    "df[\"EFG %\"] = df[\"EFG %\"].astype(float)\n",
    "\n",
    "df[\"Def Reb %\"] = df[\"Def Reb %\"].str[:-1]\n",
    "df[\"Def Reb %\"] = df[\"Def Reb %\"].astype(float)\n",
    "\n",
    "df[\"Off Reb %\"] = df[\"Off Reb %\"].str[:-1]\n",
    "df[\"Off Reb %\"] = df[\"Off Reb %\"].astype(float)\n",
    "\n",
    "df[\"Opp EFG %\"] = df[\"Opp EFG %\"].str[:-1]\n",
    "df[\"Opp EFG %\"] = df[\"Opp EFG %\"].astype(float)\n",
    "\n",
    "df[\"Def Eff\"] = df[\"Def Eff\"].astype(float)"
   ]
  },
  {
   "cell_type": "code",
   "execution_count": 33,
   "metadata": {},
   "outputs": [],
   "source": [
    "ft_mean = df[\"Free Throw %\"].mean()\n",
    "ast_mean = df[\"AST/TO\"].mean()\n",
    "efg_mean = df[\"EFG %\"].mean()\n",
    "defReb_mean = df[\"Def Reb %\"].mean()\n",
    "offReb_mean = df[\"Off Reb %\"].mean()\n",
    "oefg_mean = df[\"Opp EFG %\"].mean()\n",
    "defEff_mean = df[\"Def Eff\"].mean()"
   ]
  },
  {
   "cell_type": "code",
   "execution_count": 34,
   "metadata": {},
   "outputs": [],
   "source": [
    "ft_sd = df[\"Free Throw %\"].std()\n",
    "ast_sd = df[\"AST/TO\"].std()\n",
    "efg_sd = df[\"EFG %\"].std()\n",
    "defReb_sd = df[\"Def Reb %\"].std()\n",
    "offReb_sd = df[\"Off Reb %\"].std()\n",
    "oefg_sd = df[\"Opp EFG %\"].std()\n",
    "defEff_sd = df[\"Def Eff\"].std()"
   ]
  },
  {
   "cell_type": "code",
   "execution_count": 35,
   "metadata": {},
   "outputs": [
    {
     "name": "stderr",
     "output_type": "stream",
     "text": [
      "<ipython-input-35-269cc6e63eef>:1: SettingWithCopyWarning: \n",
      "A value is trying to be set on a copy of a slice from a DataFrame.\n",
      "Try using .loc[row_indexer,col_indexer] = value instead\n",
      "\n",
      "See the caveats in the documentation: https://pandas.pydata.org/pandas-docs/stable/user_guide/indexing.html#returning-a-view-versus-a-copy\n",
      "  df[\"FT Score\"] = (df[\"Free Throw %\"] - ft_mean)/ft_sd\n",
      "<ipython-input-35-269cc6e63eef>:2: SettingWithCopyWarning: \n",
      "A value is trying to be set on a copy of a slice from a DataFrame.\n",
      "Try using .loc[row_indexer,col_indexer] = value instead\n",
      "\n",
      "See the caveats in the documentation: https://pandas.pydata.org/pandas-docs/stable/user_guide/indexing.html#returning-a-view-versus-a-copy\n",
      "  df[\"AST Score\"] = (df[\"AST/TO\"] - ast_mean)/ast_sd\n",
      "<ipython-input-35-269cc6e63eef>:3: SettingWithCopyWarning: \n",
      "A value is trying to be set on a copy of a slice from a DataFrame.\n",
      "Try using .loc[row_indexer,col_indexer] = value instead\n",
      "\n",
      "See the caveats in the documentation: https://pandas.pydata.org/pandas-docs/stable/user_guide/indexing.html#returning-a-view-versus-a-copy\n",
      "  df[\"EFG Score\"] = (df[\"EFG %\"] - efg_mean)/efg_sd\n",
      "<ipython-input-35-269cc6e63eef>:4: SettingWithCopyWarning: \n",
      "A value is trying to be set on a copy of a slice from a DataFrame.\n",
      "Try using .loc[row_indexer,col_indexer] = value instead\n",
      "\n",
      "See the caveats in the documentation: https://pandas.pydata.org/pandas-docs/stable/user_guide/indexing.html#returning-a-view-versus-a-copy\n",
      "  df[\"Def Reb Score\"] = (df[\"Def Reb %\"] - defReb_mean)/defReb_sd\n",
      "<ipython-input-35-269cc6e63eef>:5: SettingWithCopyWarning: \n",
      "A value is trying to be set on a copy of a slice from a DataFrame.\n",
      "Try using .loc[row_indexer,col_indexer] = value instead\n",
      "\n",
      "See the caveats in the documentation: https://pandas.pydata.org/pandas-docs/stable/user_guide/indexing.html#returning-a-view-versus-a-copy\n",
      "  df[\"Off Reb Score\"] = (df[\"Off Reb %\"] - offReb_mean)/offReb_sd\n",
      "<ipython-input-35-269cc6e63eef>:6: SettingWithCopyWarning: \n",
      "A value is trying to be set on a copy of a slice from a DataFrame.\n",
      "Try using .loc[row_indexer,col_indexer] = value instead\n",
      "\n",
      "See the caveats in the documentation: https://pandas.pydata.org/pandas-docs/stable/user_guide/indexing.html#returning-a-view-versus-a-copy\n",
      "  df[\"Opp EFG Score\"] = (df[\"Opp EFG %\"] - oefg_mean)/oefg_sd\n",
      "<ipython-input-35-269cc6e63eef>:7: SettingWithCopyWarning: \n",
      "A value is trying to be set on a copy of a slice from a DataFrame.\n",
      "Try using .loc[row_indexer,col_indexer] = value instead\n",
      "\n",
      "See the caveats in the documentation: https://pandas.pydata.org/pandas-docs/stable/user_guide/indexing.html#returning-a-view-versus-a-copy\n",
      "  df[\"Def Eff Score\"] = (df[\"Def Eff\"] - defEff_mean)/defEff_sd\n"
     ]
    }
   ],
   "source": [
    "df[\"FT Score\"] = (df[\"Free Throw %\"] - ft_mean)/ft_sd\n",
    "df[\"AST Score\"] = (df[\"AST/TO\"] - ast_mean)/ast_sd\n",
    "df[\"EFG Score\"] = (df[\"EFG %\"] - efg_mean)/efg_sd\n",
    "df[\"Def Reb Score\"] = (df[\"Def Reb %\"] - defReb_mean)/defReb_sd\n",
    "df[\"Off Reb Score\"] = (df[\"Off Reb %\"] - offReb_mean)/offReb_sd\n",
    "df[\"Opp EFG Score\"] = (df[\"Opp EFG %\"] - oefg_mean)/oefg_sd\n",
    "df[\"Def Eff Score\"] = (df[\"Def Eff\"] - defEff_mean)/defEff_sd"
   ]
  },
  {
   "cell_type": "code",
   "execution_count": 36,
   "metadata": {},
   "outputs": [],
   "source": [
    "#df.to_excel(\"fatdood.xlsx\", sheet_name='Sheet_name_1')"
   ]
  },
  {
   "cell_type": "code",
   "execution_count": 37,
   "metadata": {},
   "outputs": [
    {
     "name": "stderr",
     "output_type": "stream",
     "text": [
      "<ipython-input-37-dafafbdede9b>:1: SettingWithCopyWarning: \n",
      "A value is trying to be set on a copy of a slice from a DataFrame.\n",
      "Try using .loc[row_indexer,col_indexer] = value instead\n",
      "\n",
      "See the caveats in the documentation: https://pandas.pydata.org/pandas-docs/stable/user_guide/indexing.html#returning-a-view-versus-a-copy\n",
      "  df[\"Score\"] = (df[\"FT Score\"] + df[\"AST Score\"] + df[\"EFG Score\"] + df[\"Def Reb Score\"] + df[\"Off Reb Score\"] + df[\"Opp EFG Score\"] + df[\"Def Eff Score\"])/7\n"
     ]
    }
   ],
   "source": [
    "df[\"Score\"] = (df[\"FT Score\"] + df[\"AST Score\"] + df[\"EFG Score\"] + df[\"Def Reb Score\"] + df[\"Off Reb Score\"] + df[\"Opp EFG Score\"] + df[\"Def Eff Score\"])/7 "
   ]
  },
  {
   "cell_type": "code",
   "execution_count": null,
   "metadata": {},
   "outputs": [],
   "source": []
  },
  {
   "cell_type": "code",
   "execution_count": 38,
   "metadata": {},
   "outputs": [
    {
     "data": {
      "text/html": [
       "<div>\n",
       "<style scoped>\n",
       "    .dataframe tbody tr th:only-of-type {\n",
       "        vertical-align: middle;\n",
       "    }\n",
       "\n",
       "    .dataframe tbody tr th {\n",
       "        vertical-align: top;\n",
       "    }\n",
       "\n",
       "    .dataframe thead th {\n",
       "        text-align: right;\n",
       "    }\n",
       "</style>\n",
       "<table border=\"1\" class=\"dataframe\">\n",
       "  <thead>\n",
       "    <tr style=\"text-align: right;\">\n",
       "      <th></th>\n",
       "      <th>Team</th>\n",
       "      <th>Free Throw %</th>\n",
       "      <th>AST/TO</th>\n",
       "      <th>EFG %</th>\n",
       "      <th>Def Reb %</th>\n",
       "      <th>Off Reb %</th>\n",
       "      <th>Opp EFG %</th>\n",
       "      <th>Def Eff</th>\n",
       "      <th>FT Score</th>\n",
       "      <th>AST Score</th>\n",
       "      <th>EFG Score</th>\n",
       "      <th>Def Reb Score</th>\n",
       "      <th>Off Reb Score</th>\n",
       "      <th>Opp EFG Score</th>\n",
       "      <th>Def Eff Score</th>\n",
       "      <th>Score</th>\n",
       "    </tr>\n",
       "  </thead>\n",
       "  <tbody>\n",
       "    <tr>\n",
       "      <th>14</th>\n",
       "      <td>Villanova</td>\n",
       "      <td>78.2</td>\n",
       "      <td>1.670</td>\n",
       "      <td>53.5</td>\n",
       "      <td>77.2</td>\n",
       "      <td>25.6</td>\n",
       "      <td>52.7</td>\n",
       "      <td>0.989</td>\n",
       "      <td>1.743086</td>\n",
       "      <td>3.095781</td>\n",
       "      <td>1.068681</td>\n",
       "      <td>0.934215</td>\n",
       "      <td>-0.055940</td>\n",
       "      <td>0.840431</td>\n",
       "      <td>-0.094838</td>\n",
       "      <td>1.075917</td>\n",
       "    </tr>\n",
       "    <tr>\n",
       "      <th>4</th>\n",
       "      <td>Detroit</td>\n",
       "      <td>80.3</td>\n",
       "      <td>1.247</td>\n",
       "      <td>54.7</td>\n",
       "      <td>73.1</td>\n",
       "      <td>25.9</td>\n",
       "      <td>54.3</td>\n",
       "      <td>1.057</td>\n",
       "      <td>2.240205</td>\n",
       "      <td>1.136570</td>\n",
       "      <td>1.442975</td>\n",
       "      <td>-0.227796</td>\n",
       "      <td>0.008692</td>\n",
       "      <td>1.381487</td>\n",
       "      <td>1.082329</td>\n",
       "      <td>1.009209</td>\n",
       "    </tr>\n",
       "    <tr>\n",
       "      <th>38</th>\n",
       "      <td>Bellarmine</td>\n",
       "      <td>75.8</td>\n",
       "      <td>1.325</td>\n",
       "      <td>55.5</td>\n",
       "      <td>73.8</td>\n",
       "      <td>25.4</td>\n",
       "      <td>55.7</td>\n",
       "      <td>1.021</td>\n",
       "      <td>1.174951</td>\n",
       "      <td>1.497843</td>\n",
       "      <td>1.692505</td>\n",
       "      <td>-0.029404</td>\n",
       "      <td>-0.099028</td>\n",
       "      <td>1.854911</td>\n",
       "      <td>0.459123</td>\n",
       "      <td>0.935843</td>\n",
       "    </tr>\n",
       "    <tr>\n",
       "      <th>41</th>\n",
       "      <td>S Utah</td>\n",
       "      <td>75.6</td>\n",
       "      <td>1.131</td>\n",
       "      <td>52.5</td>\n",
       "      <td>80.0</td>\n",
       "      <td>28.6</td>\n",
       "      <td>53.6</td>\n",
       "      <td>1.021</td>\n",
       "      <td>1.127607</td>\n",
       "      <td>0.599292</td>\n",
       "      <td>0.756769</td>\n",
       "      <td>1.727783</td>\n",
       "      <td>0.590381</td>\n",
       "      <td>1.144775</td>\n",
       "      <td>0.459123</td>\n",
       "      <td>0.915104</td>\n",
       "    </tr>\n",
       "    <tr>\n",
       "      <th>6</th>\n",
       "      <td>Virginia</td>\n",
       "      <td>80.1</td>\n",
       "      <td>1.468</td>\n",
       "      <td>56.6</td>\n",
       "      <td>80.8</td>\n",
       "      <td>20.2</td>\n",
       "      <td>48.5</td>\n",
       "      <td>0.969</td>\n",
       "      <td>2.192860</td>\n",
       "      <td>2.160177</td>\n",
       "      <td>2.035608</td>\n",
       "      <td>1.954517</td>\n",
       "      <td>-1.219318</td>\n",
       "      <td>-0.579843</td>\n",
       "      <td>-0.441064</td>\n",
       "      <td>0.871848</td>\n",
       "    </tr>\n",
       "    <tr>\n",
       "      <th>...</th>\n",
       "      <td>...</td>\n",
       "      <td>...</td>\n",
       "      <td>...</td>\n",
       "      <td>...</td>\n",
       "      <td>...</td>\n",
       "      <td>...</td>\n",
       "      <td>...</td>\n",
       "      <td>...</td>\n",
       "      <td>...</td>\n",
       "      <td>...</td>\n",
       "      <td>...</td>\n",
       "      <td>...</td>\n",
       "      <td>...</td>\n",
       "      <td>...</td>\n",
       "      <td>...</td>\n",
       "      <td>...</td>\n",
       "    </tr>\n",
       "    <tr>\n",
       "      <th>345</th>\n",
       "      <td>Miss Val St</td>\n",
       "      <td>57.5</td>\n",
       "      <td>0.591</td>\n",
       "      <td>43.3</td>\n",
       "      <td>63.8</td>\n",
       "      <td>15.4</td>\n",
       "      <td>55.3</td>\n",
       "      <td>1.177</td>\n",
       "      <td>-3.157080</td>\n",
       "      <td>-1.901829</td>\n",
       "      <td>-2.112822</td>\n",
       "      <td>-2.863575</td>\n",
       "      <td>-2.253432</td>\n",
       "      <td>1.719647</td>\n",
       "      <td>3.159684</td>\n",
       "      <td>-1.058487</td>\n",
       "    </tr>\n",
       "    <tr>\n",
       "      <th>250</th>\n",
       "      <td>Jackson St</td>\n",
       "      <td>68.3</td>\n",
       "      <td>0.611</td>\n",
       "      <td>43.7</td>\n",
       "      <td>74.6</td>\n",
       "      <td>27.8</td>\n",
       "      <td>44.7</td>\n",
       "      <td>0.884</td>\n",
       "      <td>-0.600471</td>\n",
       "      <td>-1.809195</td>\n",
       "      <td>-1.988057</td>\n",
       "      <td>0.197330</td>\n",
       "      <td>0.418029</td>\n",
       "      <td>-1.864852</td>\n",
       "      <td>-1.912523</td>\n",
       "      <td>-1.079963</td>\n",
       "    </tr>\n",
       "    <tr>\n",
       "      <th>333</th>\n",
       "      <td>Coppin State</td>\n",
       "      <td>62.6</td>\n",
       "      <td>0.829</td>\n",
       "      <td>48.8</td>\n",
       "      <td>68.8</td>\n",
       "      <td>15.9</td>\n",
       "      <td>48.2</td>\n",
       "      <td>0.977</td>\n",
       "      <td>-1.949793</td>\n",
       "      <td>-0.799483</td>\n",
       "      <td>-0.397306</td>\n",
       "      <td>-1.446489</td>\n",
       "      <td>-2.145712</td>\n",
       "      <td>-0.681291</td>\n",
       "      <td>-0.302573</td>\n",
       "      <td>-1.103235</td>\n",
       "    </tr>\n",
       "    <tr>\n",
       "      <th>346</th>\n",
       "      <td>Maine</td>\n",
       "      <td>56.9</td>\n",
       "      <td>0.735</td>\n",
       "      <td>45.1</td>\n",
       "      <td>70.7</td>\n",
       "      <td>23.3</td>\n",
       "      <td>48.8</td>\n",
       "      <td>0.976</td>\n",
       "      <td>-3.299114</td>\n",
       "      <td>-1.234864</td>\n",
       "      <td>-1.551380</td>\n",
       "      <td>-0.907997</td>\n",
       "      <td>-0.551453</td>\n",
       "      <td>-0.478394</td>\n",
       "      <td>-0.319885</td>\n",
       "      <td>-1.191869</td>\n",
       "    </tr>\n",
       "    <tr>\n",
       "      <th>335</th>\n",
       "      <td>Alab A&amp;M</td>\n",
       "      <td>62.4</td>\n",
       "      <td>0.745</td>\n",
       "      <td>45.7</td>\n",
       "      <td>72.0</td>\n",
       "      <td>26.7</td>\n",
       "      <td>44.1</td>\n",
       "      <td>0.915</td>\n",
       "      <td>-1.997137</td>\n",
       "      <td>-1.188546</td>\n",
       "      <td>-1.364233</td>\n",
       "      <td>-0.539554</td>\n",
       "      <td>0.181044</td>\n",
       "      <td>-2.067748</td>\n",
       "      <td>-1.375873</td>\n",
       "      <td>-1.193150</td>\n",
       "    </tr>\n",
       "  </tbody>\n",
       "</table>\n",
       "<p>347 rows × 16 columns</p>\n",
       "</div>"
      ],
      "text/plain": [
       "             Team  Free Throw %  AST/TO  EFG %  Def Reb %  Off Reb %  \\\n",
       "14      Villanova          78.2   1.670   53.5       77.2       25.6   \n",
       "4         Detroit          80.3   1.247   54.7       73.1       25.9   \n",
       "38     Bellarmine          75.8   1.325   55.5       73.8       25.4   \n",
       "41         S Utah          75.6   1.131   52.5       80.0       28.6   \n",
       "6        Virginia          80.1   1.468   56.6       80.8       20.2   \n",
       "..            ...           ...     ...    ...        ...        ...   \n",
       "345   Miss Val St          57.5   0.591   43.3       63.8       15.4   \n",
       "250    Jackson St          68.3   0.611   43.7       74.6       27.8   \n",
       "333  Coppin State          62.6   0.829   48.8       68.8       15.9   \n",
       "346         Maine          56.9   0.735   45.1       70.7       23.3   \n",
       "335      Alab A&M          62.4   0.745   45.7       72.0       26.7   \n",
       "\n",
       "     Opp EFG %  Def Eff  FT Score  AST Score  EFG Score  Def Reb Score  \\\n",
       "14        52.7    0.989  1.743086   3.095781   1.068681       0.934215   \n",
       "4         54.3    1.057  2.240205   1.136570   1.442975      -0.227796   \n",
       "38        55.7    1.021  1.174951   1.497843   1.692505      -0.029404   \n",
       "41        53.6    1.021  1.127607   0.599292   0.756769       1.727783   \n",
       "6         48.5    0.969  2.192860   2.160177   2.035608       1.954517   \n",
       "..         ...      ...       ...        ...        ...            ...   \n",
       "345       55.3    1.177 -3.157080  -1.901829  -2.112822      -2.863575   \n",
       "250       44.7    0.884 -0.600471  -1.809195  -1.988057       0.197330   \n",
       "333       48.2    0.977 -1.949793  -0.799483  -0.397306      -1.446489   \n",
       "346       48.8    0.976 -3.299114  -1.234864  -1.551380      -0.907997   \n",
       "335       44.1    0.915 -1.997137  -1.188546  -1.364233      -0.539554   \n",
       "\n",
       "     Off Reb Score  Opp EFG Score  Def Eff Score     Score  \n",
       "14       -0.055940       0.840431      -0.094838  1.075917  \n",
       "4         0.008692       1.381487       1.082329  1.009209  \n",
       "38       -0.099028       1.854911       0.459123  0.935843  \n",
       "41        0.590381       1.144775       0.459123  0.915104  \n",
       "6        -1.219318      -0.579843      -0.441064  0.871848  \n",
       "..             ...            ...            ...       ...  \n",
       "345      -2.253432       1.719647       3.159684 -1.058487  \n",
       "250       0.418029      -1.864852      -1.912523 -1.079963  \n",
       "333      -2.145712      -0.681291      -0.302573 -1.103235  \n",
       "346      -0.551453      -0.478394      -0.319885 -1.191869  \n",
       "335       0.181044      -2.067748      -1.375873 -1.193150  \n",
       "\n",
       "[347 rows x 16 columns]"
      ]
     },
     "execution_count": 38,
     "metadata": {},
     "output_type": "execute_result"
    }
   ],
   "source": [
    "df = df.sort_values(by=\"Score\", ascending=False)\n",
    "df"
   ]
  },
  {
   "cell_type": "code",
   "execution_count": 39,
   "metadata": {},
   "outputs": [],
   "source": [
    "df.to_excel(\"fatdood.xlsx\", sheet_name='Sheet_name_1')"
   ]
  },
  {
   "cell_type": "code",
   "execution_count": null,
   "metadata": {},
   "outputs": [],
   "source": []
  },
  {
   "cell_type": "code",
   "execution_count": null,
   "metadata": {},
   "outputs": [],
   "source": []
  },
  {
   "cell_type": "code",
   "execution_count": null,
   "metadata": {},
   "outputs": [],
   "source": []
  },
  {
   "cell_type": "code",
   "execution_count": null,
   "metadata": {},
   "outputs": [],
   "source": []
  },
  {
   "cell_type": "code",
   "execution_count": null,
   "metadata": {},
   "outputs": [],
   "source": []
  },
  {
   "cell_type": "code",
   "execution_count": null,
   "metadata": {},
   "outputs": [],
   "source": []
  }
 ],
 "metadata": {
  "kernelspec": {
   "display_name": "Python 3",
   "language": "python",
   "name": "python3"
  },
  "language_info": {
   "codemirror_mode": {
    "name": "ipython",
    "version": 3
   },
   "file_extension": ".py",
   "mimetype": "text/x-python",
   "name": "python",
   "nbconvert_exporter": "python",
   "pygments_lexer": "ipython3",
   "version": "3.8.3"
  }
 },
 "nbformat": 4,
 "nbformat_minor": 4
}
