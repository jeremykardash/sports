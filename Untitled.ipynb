{
 "cells": [
  {
   "cell_type": "code",
   "execution_count": null,
   "metadata": {},
   "outputs": [],
   "source": [
    "import os\n",
    "import pandas as pd\n",
    "from matplotlib import pyplot as plt\n",
    "import numpy as np"
   ]
  },
  {
   "cell_type": "code",
   "execution_count": null,
   "metadata": {},
   "outputs": [],
   "source": [
    "file = \"Resources/modern_RAPTOR_by_player.csv\"\n",
    "df = pd.read_csv(file)"
   ]
  },
  {
   "cell_type": "code",
   "execution_count": null,
   "metadata": {},
   "outputs": [],
   "source": [
    "df.columns"
   ]
  },
  {
   "cell_type": "code",
   "execution_count": null,
   "metadata": {},
   "outputs": [],
   "source": [
    "df = df.loc[(df[\"season\"] == 2019)]\n",
    "df = df.loc[(df[\"poss\"] >= 3000)]\n",
    "df = df[['player_name', 'player_id', 'season', 'poss', 'mp',\n",
    "       'raptor_box_offense', 'raptor_onoff_offense',\n",
    "       'raptor_offense',\n",
    "       'war_reg_season',  'predator_offense',\n",
    "     'pace_impact']]\n",
    "df"
   ]
  },
  {
   "cell_type": "code",
   "execution_count": null,
   "metadata": {},
   "outputs": [],
   "source": [
    "name_list = []\n",
    "for name in df[\"player_name\"]:\n",
    "    name = name.split(\" \")\n",
    "    name_list.append(name[1])\n"
   ]
  },
  {
   "cell_type": "code",
   "execution_count": null,
   "metadata": {},
   "outputs": [],
   "source": [
    "df[\"last_name\"] = name_list\n",
    "df[\"first_initial\"] = first_letter\n",
    "df"
   ]
  },
  {
   "cell_type": "code",
   "execution_count": null,
   "metadata": {},
   "outputs": [],
   "source": [
    "def graphs(x,y):\n",
    "\n",
    "    x = df[x]\n",
    "    y = df[y]\n",
    "    labels = df[\"last_name\"]\n",
    "\n",
    "    ax = plt.figure(figsize=(25,25))\n",
    "    plt.scatter(x, y)\n",
    "    plt.title(\"Offense v War\")\n",
    "    plt.xlabel(\"Offense\")\n",
    "    plt.ylabel(\"Predetor Offense\")\n",
    "    for x,y,z in zip(x,y,labels):\n",
    "\n",
    "        plt.annotate(z, # this is the text\n",
    "                (x,y), # this is the point to label\n",
    "                 textcoords=\"offset points\", # how to position the text\n",
    "                 xytext=(4,4), # distance from text to points (x,y)\n",
    "                 ha='right') "
   ]
  },
  {
   "cell_type": "code",
   "execution_count": null,
   "metadata": {},
   "outputs": [],
   "source": [
    "graphs(\"raptor_onoff_offense\", \"poss\")"
   ]
  },
  {
   "cell_type": "code",
   "execution_count": null,
   "metadata": {},
   "outputs": [],
   "source": []
  }
 ],
 "metadata": {
  "kernelspec": {
   "display_name": "Python 3",
   "language": "python",
   "name": "python3"
  },
  "language_info": {
   "codemirror_mode": {
    "name": "ipython",
    "version": 3
   },
   "file_extension": ".py",
   "mimetype": "text/x-python",
   "name": "python",
   "nbconvert_exporter": "python",
   "pygments_lexer": "ipython3",
   "version": "3.8.3"
  }
 },
 "nbformat": 4,
 "nbformat_minor": 4
}
